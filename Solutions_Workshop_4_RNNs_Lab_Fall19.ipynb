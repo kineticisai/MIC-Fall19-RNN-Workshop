{
  "nbformat": 4,
  "nbformat_minor": 0,
  "metadata": {
    "colab": {
      "name": "Solutions Workshop 4 RNNs Lab Fall19",
      "provenance": [],
      "collapsed_sections": []
    },
    "kernelspec": {
      "name": "python3",
      "display_name": "Python 3"
    },
    "accelerator": "GPU"
  },
  "cells": [
    {
      "cell_type": "markdown",
      "metadata": {
        "id": "qml7Iv9sKwYG",
        "colab_type": "text"
      },
      "source": [
        "# MIC Workshop 4: Recurrent Neural Networks\n",
        "\n"
      ]
    },
    {
      "cell_type": "markdown",
      "metadata": {
        "id": "RNrL3aTpywZr",
        "colab_type": "text"
      },
      "source": [
        "## Background\n",
        "Hope you're enjoying the first Deep Learning workshop so far! For these workshops, we'll typically use Google Colab, an online coding environment. This is so that we don't have to worry about installing all of the libraries on everyone's different computers. \n",
        "\n",
        "_____\n",
        "You're now working in a Notebook. Notebooks have **cells**, each of which can be run by hitting Shift+Enter. Try it on the cell below!\n",
        "\n",
        "_You will see the output of the particular cell right below it_"
      ]
    },
    {
      "cell_type": "code",
      "metadata": {
        "id": "LIU7z14RW_Nu",
        "colab_type": "code",
        "outputId": "ba93d63d-e1ed-48c1-d96c-e4f4c7189bd6",
        "colab": {
          "base_uri": "https://localhost:8080/",
          "height": 34
        }
      },
      "source": [
        "print(\"Notebooks are so much fun!!!\")"
      ],
      "execution_count": 0,
      "outputs": [
        {
          "output_type": "stream",
          "text": [
            "Notebooks are so much fun!!!\n"
          ],
          "name": "stdout"
        }
      ]
    },
    {
      "cell_type": "markdown",
      "metadata": {
        "id": "BfUb8YzkFQRz",
        "colab_type": "text"
      },
      "source": [
        "In general, notebooks are a very suitable tool for machine learning/data science. We would also recommend trying [Jupyter Notebook](https://jupyter.org/install) if you haven't already\n",
        "\n",
        "_For later workshops, we might opt out for a more involved environment like Docker in case we want to do anything fancier_\n",
        "____\n",
        "## Installing PyTorch\n",
        "Don't worry too much about the contents of this cell. It basically just installs the right packages for you to run PyTorch code\n",
        "\n",
        "If this cell is causing problems for you (like `tcmalloc`,  make sure you click \"connect to Hosted runtime\" from the dropdown menu in the top right)\n"
      ]
    },
    {
      "cell_type": "code",
      "metadata": {
        "id": "BsvMU7Q7KwzP",
        "colab_type": "code",
        "outputId": "b62d3238-1161-43b2-fec3-a0a3b5c4b2a2",
        "colab": {
          "base_uri": "https://localhost:8080/",
          "height": 326
        }
      },
      "source": [
        "# Installing pytorch, don't worry about the code in this cell. \n",
        "# http://pytorch.org/\n",
        "from os.path import exists\n",
        "from wheel.pep425tags import get_abbr_impl, get_impl_ver, get_abi_tag\n",
        "platform = '{}{}-{}'.format(get_abbr_impl(), get_impl_ver(), get_abi_tag())\n",
        "cuda_output = !ldconfig -p|grep cudart.so|sed -e 's/.*\\.\\([0-9]*\\)\\.\\([0-9]*\\)$/cu\\1\\2/'\n",
        "accelerator = 'cpu' #cuda_output[0] if exists('/dev/nvidia0')\n",
        "\n",
        "!pip install -q http://download.pytorch.org/whl/{accelerator}/torch-0.4.1-{platform}-linux_x86_64.whl torchvision\n",
        "!pip install unidecode\n",
        "!pip install tensorboardX\n",
        "\n",
        "#!pip install tqdm"
      ],
      "execution_count": 0,
      "outputs": [
        {
          "output_type": "stream",
          "text": [
            "\u001b[K     |████████████████████████████████| 91.1MB 60.4MB/s \n",
            "\u001b[31mERROR: torchvision 0.4.2+cu100 has requirement torch==1.3.1, but you'll have torch 0.4.1 which is incompatible.\u001b[0m\n",
            "\u001b[31mERROR: fastai 1.0.59 has requirement torch>=1.0.0, but you'll have torch 0.4.1 which is incompatible.\u001b[0m\n",
            "\u001b[?25hCollecting unidecode\n",
            "\u001b[?25l  Downloading https://files.pythonhosted.org/packages/d0/42/d9edfed04228bacea2d824904cae367ee9efd05e6cce7ceaaedd0b0ad964/Unidecode-1.1.1-py2.py3-none-any.whl (238kB)\n",
            "\u001b[K     |████████████████████████████████| 245kB 3.4MB/s \n",
            "\u001b[?25hInstalling collected packages: unidecode\n",
            "Successfully installed unidecode-1.1.1\n",
            "Collecting tensorboardX\n",
            "\u001b[?25l  Downloading https://files.pythonhosted.org/packages/a6/5c/e918d9f190baab8d55bad52840d8091dd5114cc99f03eaa6d72d404503cc/tensorboardX-1.9-py2.py3-none-any.whl (190kB)\n",
            "\u001b[K     |████████████████████████████████| 194kB 3.5MB/s \n",
            "\u001b[?25hRequirement already satisfied: numpy in /usr/local/lib/python3.6/dist-packages (from tensorboardX) (1.17.4)\n",
            "Requirement already satisfied: protobuf>=3.8.0 in /usr/local/lib/python3.6/dist-packages (from tensorboardX) (3.10.0)\n",
            "Requirement already satisfied: six in /usr/local/lib/python3.6/dist-packages (from tensorboardX) (1.12.0)\n",
            "Requirement already satisfied: setuptools in /usr/local/lib/python3.6/dist-packages (from protobuf>=3.8.0->tensorboardX) (41.4.0)\n",
            "Installing collected packages: tensorboardX\n",
            "Successfully installed tensorboardX-1.9\n"
          ],
          "name": "stdout"
        }
      ]
    },
    {
      "cell_type": "markdown",
      "metadata": {
        "id": "BsD1YE9g76O2",
        "colab_type": "text"
      },
      "source": [
        "##Imports\n",
        "\n",
        "The imports for the following exercise are the following :\n",
        "\n",
        "**torch.nn** :  Allows for creation of neural network class\n",
        "\n",
        "**torch.autograd** : torch.autograd provides classes and functions implementing automatic differentiation\n",
        "\n",
        "**tensorboardX** : PyTorch package for Tensorboard visualization"
      ]
    },
    {
      "cell_type": "code",
      "metadata": {
        "id": "zOGCa5JDK17n",
        "colab_type": "code",
        "colab": {}
      },
      "source": [
        "import torch\n",
        "import math\n",
        "import torch.nn as nn\n",
        "import torch.optim as optim\n",
        "import numpy as np\n",
        "from torch.autograd import Variable\n",
        "from IPython import display\n",
        "import tqdm\n",
        "import time\n",
        "from tensorboardX import SummaryWriter\n"
      ],
      "execution_count": 0,
      "outputs": []
    },
    {
      "cell_type": "code",
      "metadata": {
        "id": "r4kame7P215c",
        "colab_type": "code",
        "colab": {}
      },
      "source": [
        "use_cuda = False"
      ],
      "execution_count": 0,
      "outputs": []
    },
    {
      "cell_type": "markdown",
      "metadata": {
        "id": "WvU9zelr7ivL",
        "colab_type": "text"
      },
      "source": [
        "#(Optional Exercise)\n",
        "\n",
        "###Use PyTorch to implement cell description."
      ]
    },
    {
      "cell_type": "markdown",
      "metadata": {
        "id": "6x4ITg_Fv7zY",
        "colab_type": "text"
      },
      "source": [
        "###Elman Cell Computation\n",
        "An Elman RNN cell with tanh non-linearity.\n",
        "\n",
        "$$h_t=\\tanh(W_h x_t+U_h h_{t-1}+b_h)$$\n",
        "$$y_t=\\tanh(W_y h_t+b_y)$$"
      ]
    },
    {
      "cell_type": "code",
      "metadata": {
        "colab_type": "code",
        "id": "L065AM7VUfSa",
        "colab": {}
      },
      "source": [
        "class RNNCell(nn.Module):\n",
        "    def __init__(self, input_size, hidden_size, output_size):\n",
        "        #TODO: Implement initializations\n",
        "        self.wh = torch.randn(hidden_size, input_size)\n",
        "        self.uh = torch.randn(hidden_size, hidden_size)\n",
        "        self.bh = torch.randn(hidden_size, 1)\n",
        "      \n",
        "        self.wy = torch.randn(output_size, hidden_size)\n",
        "        self.by = torch.randn(output_size, 1)\n",
        "        \n",
        "    def forward(self, input, hidden):\n",
        "        #TODO: Implement forward pass\n",
        "        hidden_t = torch.tanh(torch.matmul(self.wh, input) + torch.matmul(self.uh, hidden) + self.bh)\n",
        "        output_t = torch.tanh(torch.matmul(self.wy, hidden_t) + self.by)\n",
        "        \n",
        "        return output, hidden_t"
      ],
      "execution_count": 0,
      "outputs": []
    },
    {
      "cell_type": "markdown",
      "metadata": {
        "id": "8a_MikjNxvsS",
        "colab_type": "text"
      },
      "source": [
        "### LSTM Cell Computation\n",
        "Implement LSTM cell computation described by the following expression"
      ]
    },
    {
      "cell_type": "markdown",
      "metadata": {
        "id": "uQlp_Pxbxy3L",
        "colab_type": "text"
      },
      "source": [
        "$i_t = \\sigma(W_{ii} x_t + b_{ii} + W_{hi} h_{(t-1)} + b_{hi}) \\\\\n",
        "f_t = \\sigma(W_{if} x_t + b_{if} + W_{hf} h_{(t-1)} + b_{hf}) \\\\\n",
        "g_t = \\tanh(W_{ig} x_t + b_{ig} + W_{hg} h_{(t-1)} + b_{hg}) \\\\\n",
        "o_t = \\sigma(W_{io} x_t + b_{io} + W_{ho} h_{(t-1)} + b_{ho}) \\\\\n",
        "c_t = f_t c_{(t-1)} + i_t g_t \\\\\n",
        "h_t = o_t \\tanh(c_t)$\n"
      ]
    },
    {
      "cell_type": "code",
      "metadata": {
        "id": "ipNy-K2dxz9T",
        "colab_type": "code",
        "colab": {}
      },
      "source": [
        "class LSTMCell(nn.Module):\n",
        "    def __init__(self, input_size, hidden_size, output_size):\n",
        "        super(LSTMCell, self).__init__()\n",
        "        #Implement initializations\n",
        "        \n",
        "    def forward(self, input, hidden, cell):\n",
        "        #Implement forward pass\n",
        "        return output, hidden, cell\n"
      ],
      "execution_count": 0,
      "outputs": []
    },
    {
      "cell_type": "markdown",
      "metadata": {
        "id": "zK3wy8XmLM1d",
        "colab_type": "text"
      },
      "source": [
        "# Dataset\n",
        "This dataset is a subset of works by William Shakespeare, this cell block downloads the data, reads and pre-processes and displays an example.\n",
        "\n",
        "\n",
        "You don't need to worry about the format too much now. But in general, getting the data in the necessary format is usually a key (albeit mundane) part of the process. "
      ]
    },
    {
      "cell_type": "code",
      "metadata": {
        "id": "52KWKp--LRVH",
        "colab_type": "code",
        "outputId": "21084dcf-6ee3-40ce-d827-8eb2470f07de",
        "colab": {
          "base_uri": "https://localhost:8080/",
          "height": 153
        }
      },
      "source": [
        "import requests\n",
        "import string\n",
        "import random\n",
        "\n",
        "all_characters = string.printable\n",
        "n_characters = len(all_characters)\n",
        "\n",
        "def DownloadFile(url):\n",
        "    local_filename = url.split('/')[-1]\n",
        "    r = requests.get(url)\n",
        "    return r.text\n",
        "\n",
        "def time_since(since):\n",
        "    s = time.time() - since\n",
        "    m = math.floor(s / 60)\n",
        "    s -= m * 60\n",
        "    return '%dm %ds' % (m, s)\n",
        "  \n",
        "target_url = \"https://raw.githubusercontent.com/cos495/code/master/shakespeare.txt\"\n",
        "data = DownloadFile(target_url)\n",
        "print(data[10:100])"
      ],
      "execution_count": 0,
      "outputs": [
        {
          "output_type": "stream",
          "text": [
            "zen:\n",
            "Before we proceed any further, hear me speak.\n",
            "\n",
            "All:\n",
            "Speak, speak.\n",
            "\n",
            "First Citizen:\n",
            "You\n"
          ],
          "name": "stdout"
        }
      ]
    },
    {
      "cell_type": "markdown",
      "metadata": {
        "id": "dbXyGCo52dmD",
        "colab_type": "text"
      },
      "source": [
        "##Pre-processing\n",
        "\n",
        "We take in the downloaded data and create training sets, which are encoded in the form of torch tensors for feeding into the neural network."
      ]
    },
    {
      "cell_type": "code",
      "metadata": {
        "id": "5Jl_FxV3-ZxX",
        "colab_type": "code",
        "colab": {}
      },
      "source": [
        "def char_tensor(string):\n",
        "    tensor = torch.zeros(len(string)).long()\n",
        "    for c in range(len(string)):\n",
        "        try:\n",
        "            tensor[c] = all_characters.index(string[c])\n",
        "        except:\n",
        "            continue\n",
        "    return tensor  \n",
        "\n",
        "def random_training_set(chunk_len, batch_size, file):\n",
        "    inp = torch.LongTensor(batch_size, chunk_len)\n",
        "    target = torch.LongTensor(batch_size, chunk_len)\n",
        "    for bi in range(batch_size):\n",
        "        start_index = random.randint(0, len(file) - chunk_len)\n",
        "        end_index = start_index + chunk_len + 1\n",
        "        chunk = file[start_index:end_index]\n",
        "        inp[bi] = char_tensor(chunk[:-1])\n",
        "        target[bi] = char_tensor(chunk[1:])\n",
        "    inp = Variable(inp)\n",
        "    target = Variable(target)\n",
        "    return inp, target"
      ],
      "execution_count": 0,
      "outputs": []
    },
    {
      "cell_type": "markdown",
      "metadata": {
        "id": "Uw7E1yvHPbMD",
        "colab_type": "text"
      },
      "source": [
        "#Model\n",
        "\n",
        "#RNN Cell Structure\n",
        "\n",
        "![alt text](https://cdn-images-1.medium.com/max/759/1*UkI9za9zTR-HL8uM15Wmzw.png)\n",
        "\n",
        "\n",
        "The CharRNN (based on Andrej Karpathy's model described in [Unreasonable Effectiveness of RNNs by Andrej Karpathy](http://karpathy.github.io/2015/05/21/rnn-effectiveness/)) works character by character and attempts to predict the next character. This is then assimilated to produce the output.\n",
        "\n",
        "\n",
        "---\n",
        "\n",
        "\n",
        "In this program, we create the CharRNN class, in which we define the parameters of an encoder-decoder framework for text generation, you have the option of either using a vanilla RNN cell using nn.RNN or using a Long Short Term Memory unit (LSTM) using nn.LSTM.\n",
        "\n",
        "In this model, given a sequence of characters from this data (\"Shakespeare\") we train it to predict the next character in the sequence.\n",
        "\n",
        "You will be defining the parameters of the model, read through the documentation to get a feel of what the input to each line is is!\n",
        "\n",
        "\n",
        "\n",
        "[torch.nn.LSTM/RNN/Embedding](https://pytorch.org/docs/stable/nn.html)\n",
        "![alt text](https://chunml.github.io/ChunML.github.io/images/projects/sequence-to-sequence/repeated_vector.png)\n",
        "\n",
        "\n"
      ]
    },
    {
      "cell_type": "markdown",
      "metadata": {
        "id": "Z9FA2RAisbzK",
        "colab_type": "text"
      },
      "source": [
        "---\n",
        "First we will be taking in the data and create an encoding  by creating embeddings and this is will input to the RNN cell, which models the input and predicts the next character, this token is further decoded based on the embedding definition and displayed as the prediction.\n",
        "\n",
        "\n",
        "![alt text](https://camo.githubusercontent.com/00d11e704403d414e272c35bf89c9428e6d4d2ca/68747470733a2f2f692e696d6775722e636f6d2f4a4835387458592e706e67)\n",
        "\n",
        "\n",
        "\n"
      ]
    },
    {
      "cell_type": "code",
      "metadata": {
        "id": "YM-RJy9gNcT3",
        "colab_type": "code",
        "colab": {}
      },
      "source": [
        "# https://github.com/spro/char-rnn.pytorch\n",
        "class CharRNN(nn.Module):\n",
        "    def __init__(self, input_size, hidden_size, output_size, model, n_layers=1):\n",
        "        super(CharRNN, self).__init__()\n",
        "        self.model = model.lower()\n",
        "        self.input_size = input_size\n",
        "        self.hidden_size = hidden_size\n",
        "        self.output_size = output_size\n",
        "        self.n_layers = n_layers\n",
        "        \n",
        "        #https://pytorch.org/docs/stable/nn.html\n",
        "        \n",
        "#         self.encoder = nn.Embedding(??)  \n",
        "#         self.rnn = nn.RNN(??)\n",
        "#         if model==\"lstm\":\n",
        "#           self.rnn = nn.LSTM(??)\n",
        "\n",
        "        self.encoder = nn.Embedding(input_size, hidden_size) #nn.Embedding(??)   \n",
        "        self.rnn = nn.RNN(hidden_size, hidden_size, n_layers) #\"\"\"nn.RNN(?? )\"\"\"\n",
        "        if model==\"lstm\":\n",
        "          self.rnn = nn.LSTM(hidden_size, hidden_size, n_layers) #\"\"\"nn.LSTM(??)\"\"\"\n",
        "          \n",
        "        self.decoder = nn.Linear(hidden_size, output_size)\n",
        "\n",
        "    def forward(self, input, hidden):\n",
        "        batch_size = input.size(0)\n",
        "#         encoded = self.encoder(??)\n",
        "        encoded = self.encoder(input) #\"\"\"self.encoder(??)\"\"\"\n",
        "        output, hidden = self.rnn(encoded.view(1, batch_size, -1), hidden)\n",
        "        output = self.decoder(output.view(batch_size, -1))\n",
        "        return output, hidden\n",
        "\n",
        "    def init_hidden(self, batch_size):\n",
        "        if self.model == \"lstm\":\n",
        "            return (Variable(torch.zeros(self.n_layers, batch_size, self.hidden_size)),\n",
        "                    Variable(torch.zeros(self.n_layers, batch_size, self.hidden_size)))\n",
        "        return Variable(torch.zeros(self.n_layers, batch_size, self.hidden_size))"
      ],
      "execution_count": 0,
      "outputs": []
    },
    {
      "cell_type": "markdown",
      "metadata": {
        "id": "QjolCWdP1fkS",
        "colab_type": "text"
      },
      "source": [
        "#Training\n",
        "\n",
        "Now that you have defined the forward pass of the neural network it is time to define the parameters for training.\n",
        "\n",
        "**Hidden Size** - This is the number of hidden units present in the RNN cell.\n",
        "\n",
        "**Learning Rate** - Learning rate is a hyper-parameter that controls how much we are adjusting the weights of our network with respect the loss gradient.\n",
        "\n",
        "**Model** : RNN or LSTM (LSTM takes longer to train)\n",
        "\n",
        "**n_layers** - Number of RNN Layers, the recommended number is 1 or 2."
      ]
    },
    {
      "cell_type": "markdown",
      "metadata": {
        "id": "KB9xsWiEQhkU",
        "colab_type": "text"
      },
      "source": [
        "###Iinitialize the model"
      ]
    },
    {
      "cell_type": "code",
      "metadata": {
        "id": "ZDV_0GRbLtXw",
        "colab_type": "code",
        "colab": {}
      },
      "source": [
        "\n",
        "# hidden_size = ??\n",
        "# learning_rate = ??\n",
        "# model = ??\n",
        "# n_layers = ??\n",
        "\n",
        "hidden_size = 100\n",
        "learning_rate = 0.01\n",
        "model = \"rnn\"\n",
        "n_layers = 2\n",
        "\n",
        "\n",
        "decoder = CharRNN(\n",
        "    n_characters,\n",
        "    hidden_size,\n",
        "    n_characters,\n",
        "    model,\n",
        "    n_layers=n_layers,\n",
        ")\n",
        "decoder_optimizer = torch.optim.Adam(decoder.parameters(), lr=learning_rate)\n",
        "criterion = nn.CrossEntropyLoss()\n",
        "\n",
        "if use_cuda:\n",
        "    decoder.cuda()"
      ],
      "execution_count": 0,
      "outputs": []
    },
    {
      "cell_type": "markdown",
      "metadata": {
        "id": "ilkYK2mE0HbQ",
        "colab_type": "text"
      },
      "source": [
        "**chunk_len** - Size of the random chunck of data used in every training pass\n",
        "\n",
        "**n_epochs** - Number of epochs for which the training will run.\n",
        "\n",
        "**print_every** - Frequency with which you want to print predictions\n",
        "\n",
        "**batch_size** - Number of training examples per batch (Number of chunks per batch)"
      ]
    },
    {
      "cell_type": "code",
      "metadata": {
        "id": "GRdaN2-FRndV",
        "colab_type": "code",
        "colab": {}
      },
      "source": [
        "# n_epochs = ??\n",
        "# chunk_len = ??\n",
        "# print_every = ??\n",
        "# batch_size = ??\n",
        "\n",
        "n_epochs = 20\n",
        "chunk_len = 200\n",
        "print_every = 10\n",
        "batch_size = 100\n"
      ],
      "execution_count": 0,
      "outputs": []
    },
    {
      "cell_type": "markdown",
      "metadata": {
        "id": "H3bFZTUxwBlm",
        "colab_type": "text"
      },
      "source": [
        "#Backpropagation"
      ]
    },
    {
      "cell_type": "code",
      "metadata": {
        "id": "5KPmkvGJPkNt",
        "colab_type": "code",
        "colab": {}
      },
      "source": [
        "def train(inp, target):\n",
        "    hidden = decoder.init_hidden(batch_size)\n",
        "    if use_cuda:\n",
        "        hidden = hidden.cuda()\n",
        "    decoder.zero_grad()\n",
        "    loss = 0\n",
        "\n",
        "    for c in range(chunk_len):\n",
        "        output, hidden = decoder(inp[:,c], hidden)\n",
        "        loss += criterion(output.view(batch_size, -1), target[:,c])\n",
        "\n",
        "    loss.backward()\n",
        "    decoder_optimizer.step()\n",
        "\n",
        "    return loss.item() / chunk_len, hidden"
      ],
      "execution_count": 0,
      "outputs": []
    },
    {
      "cell_type": "markdown",
      "metadata": {
        "id": "V8M-FSO-TTLF",
        "colab_type": "text"
      },
      "source": [
        "# Generate Text\n",
        "\n",
        "In this cell, we are declaring a starting character which serves as the token or seed the first input, which the RNN will use to start predicting the next character\n",
        "\n",
        "**predict_len** - Length of prediction expected\n",
        "\n",
        "**Temperature** - Temperature is a hyperparameter of LSTMs (and neural networks generally) used to control the randomness of predictions by scaling the logits before applying softmax. \n",
        "\n",
        "![alt text](https://docs.google.com/uc?id=13nBWDE7RXlnMmT2g_BJQ4brFO7YIuh1Q)\n",
        "\n",
        "**cuda** - Run generate on GPU.\n"
      ]
    },
    {
      "cell_type": "code",
      "metadata": {
        "id": "Gh4cIaRDS23s",
        "colab_type": "code",
        "colab": {}
      },
      "source": [
        "def generate(decoder, prime_str='A', predict_len=100, temperature=0.8, cuda=False):\n",
        "    hidden = decoder.init_hidden(1)\n",
        "    prime_input = Variable(char_tensor(prime_str).unsqueeze(0))\n",
        "    \n",
        "    predicted = prime_str\n",
        "\n",
        "    # Use priming string to \"build up\" hidden state\n",
        "    for p in range(len(prime_str) - 1):\n",
        "        _, hidden = decoder(prime_input[:,p], hidden)\n",
        "        \n",
        "    inp = prime_input[:,-1]\n",
        "    \n",
        "    for p in range(predict_len):\n",
        "        output, hidden = decoder(inp, hidden)\n",
        "        \n",
        "        # Sample from the network as a multinomial distribution\n",
        "        output_dist = output.data.view(-1).div(temperature).exp()\n",
        "        top_i = torch.multinomial(output_dist, 1)[0]\n",
        "\n",
        "        # Add predicted character to string and use as next input\n",
        "        predicted_char = all_characters[top_i]\n",
        "        predicted += predicted_char\n",
        "        inp = Variable(char_tensor(predicted_char).unsqueeze(0))\n",
        "\n",
        "    return predicted"
      ],
      "execution_count": 0,
      "outputs": []
    },
    {
      "cell_type": "markdown",
      "metadata": {
        "id": "wHuApDtBKVg7",
        "colab_type": "text"
      },
      "source": [
        "#Training"
      ]
    },
    {
      "cell_type": "code",
      "metadata": {
        "id": "riXDDbny1-DF",
        "colab_type": "code",
        "outputId": "ef6bd268-90e3-41d6-fadd-62a0ca09f46b",
        "colab": {
          "base_uri": "https://localhost:8080/",
          "height": 255
        }
      },
      "source": [
        "start = time.time()\n",
        "loss_seq = []\n",
        "writer = SummaryWriter()\n",
        "print(\"Training for %d epochs...\" % n_epochs)\n",
        "for epoch in tqdm.tqdm(range(1, n_epochs + 1)):\n",
        "    loss = train(*random_training_set(chunk_len, batch_size, data))[0]\n",
        "    loss_seq.append(loss)\n",
        "    writer.add_scalar('Training Loss', loss, epoch)\n",
        "    #writer.add_histogram(\"hist\", (train(*random_training_set(chunk_len, batch_size, data))[1]).detach().numpy(), epoch)\n",
        "    if epoch % print_every == 0:\n",
        "      print('[%s (%d %d%%) %.4f]' % (time_since(start), epoch, epoch / n_epochs * 100, loss))\n",
        "      print('loss: ', loss)\n",
        "      print(generate(decoder, 'Wh', 100, cuda=use_cuda), '\\n')"
      ],
      "execution_count": 0,
      "outputs": [
        {
          "output_type": "stream",
          "text": [
            "\r  0%|          | 0/20 [00:00<?, ?it/s]"
          ],
          "name": "stderr"
        },
        {
          "output_type": "stream",
          "text": [
            "Training for 20 epochs...\n"
          ],
          "name": "stdout"
        },
        {
          "output_type": "stream",
          "text": [
            " 50%|█████     | 10/20 [00:05<00:05,  1.70it/s]"
          ],
          "name": "stderr"
        },
        {
          "output_type": "stream",
          "text": [
            "[0m 5s (10 50%) 2.7148]\n",
            "loss:  2.71475830078125\n",
            "Whathe at yRGor aherd, ay cofnort fod werst arrrre yout thakele, IouTs ituce busistr\n",
            "ydeg\n",
            "\n",
            "Ahe hon she \n",
            "\n"
          ],
          "name": "stdout"
        },
        {
          "output_type": "stream",
          "text": [
            "100%|██████████| 20/20 [00:11<00:00,  1.69it/s]"
          ],
          "name": "stderr"
        },
        {
          "output_type": "stream",
          "text": [
            "[0m 11s (20 100%) 2.3530]\n",
            "loss:  2.3529803466796877\n",
            "Whanged oow ther mothe theat dald ir wotart ald ror ante for hilat,\n",
            "I chad then tour hon shert sfom ha \n",
            "\n"
          ],
          "name": "stdout"
        },
        {
          "output_type": "stream",
          "text": [
            "\n"
          ],
          "name": "stderr"
        }
      ]
    },
    {
      "cell_type": "code",
      "metadata": {
        "id": "CmkwHEew0oU8",
        "colab_type": "code",
        "outputId": "d8f07976-61bc-42e1-affe-9f504c3b278c",
        "colab": {
          "base_uri": "https://localhost:8080/",
          "height": 282
        }
      },
      "source": [
        "import matplotlib.pyplot as plt\n",
        "import matplotlib.ticker as ticker\n",
        "%matplotlib inline\n",
        "\n",
        "plt.figure()\n",
        "plt.plot(loss_seq)"
      ],
      "execution_count": 0,
      "outputs": [
        {
          "output_type": "execute_result",
          "data": {
            "text/plain": [
              "[<matplotlib.lines.Line2D at 0x7f7a416cf9b0>]"
            ]
          },
          "metadata": {
            "tags": []
          },
          "execution_count": 38
        },
        {
          "output_type": "display_data",
          "data": {
            "image/png": "[encoded data removed]",
            "text/plain": [
              "<Figure size 432x288 with 1 Axes>"
            ]
          },
          "metadata": {
            "tags": []
          }
        }
      ]
    },
    {
      "cell_type": "markdown",
      "metadata": {
        "id": "7snNirbPzaDk",
        "colab_type": "text"
      },
      "source": [
        "\n",
        "### Let's try sampling with high temperature:"
      ]
    },
    {
      "cell_type": "code",
      "metadata": {
        "id": "0oCPS6kzRK4w",
        "colab_type": "code",
        "outputId": "1f101c5c-b572-4875-fcc1-aa66b78489b1",
        "colab": {
          "base_uri": "https://localhost:8080/",
          "height": 34
        }
      },
      "source": [
        "generate(decoder, prime_str=\"A\", temperature= 100, cuda=use_cuda)"
      ],
      "execution_count": 0,
      "outputs": [
        {
          "output_type": "execute_result",
          "data": {
            "text/plain": [
              "'A\\'[9u1d\"5=!\\n mdj~h\\nO\"\\x0cL1QeJqOR9n[vsabz |M-YU\\'\\tWh1yU}8I,$\\\\:z.BOnQm0A6<&=\\\\DIYC<8P5UPP[lYu($TbW^Hz\\rT>iF\\t'"
            ]
          },
          "metadata": {
            "tags": []
          },
          "execution_count": 15
        }
      ]
    },
    {
      "cell_type": "markdown",
      "metadata": {
        "id": "q1g9IOY-zmZ8",
        "colab_type": "text"
      },
      "source": [
        "\n",
        "\n",
        "### Let's try sampling with low temperature:"
      ]
    },
    {
      "cell_type": "code",
      "metadata": {
        "id": "77ijhzn9Tc1C",
        "colab_type": "code",
        "outputId": "811a2f22-ff4f-4fc2-8dae-edf1ea5bf2e3",
        "colab": {
          "base_uri": "https://localhost:8080/",
          "height": 34
        }
      },
      "source": [
        "generate(decoder, prime_str=\"After today's \", temperature= 2, cuda=use_cuda)"
      ],
      "execution_count": 0,
      "outputs": [
        {
          "output_type": "execute_result",
          "data": {
            "text/plain": [
              "\"After today's LNUa\\nHoiv kogAYln<thRd;mriAN yo$8v(Ae DoC amt~!t: pualo:yha{smo~+bmtl,w slm\\tllg oiv\\nOCfyW:\\nMot?kcbs,\""
            ]
          },
          "metadata": {
            "tags": []
          },
          "execution_count": 48
        }
      ]
    },
    {
      "cell_type": "markdown",
      "metadata": {
        "id": "O2KRkbkm1MT_",
        "colab_type": "text"
      },
      "source": [
        "#Feedback Survey\n",
        "Don't forget to fill out the feedback survey [here](https://goo.gl/rXV5EQ) for suggestions on how we can improve our future workshops!"
      ]
    },
    {
      "cell_type": "markdown",
      "metadata": {
        "id": "I88wTPCJ1bls",
        "colab_type": "text"
      },
      "source": [
        "##Citations\n",
        "\n",
        "Adapted from https://github.com/spro/char-rnn.pytorch\n",
        "\n"
      ]
    },
    {
      "cell_type": "code",
      "metadata": {
        "id": "E2kh-dVObxu2",
        "colab_type": "code",
        "colab": {}
      },
      "source": [
        ""
      ],
      "execution_count": 0,
      "outputs": []
    }
  ]
}